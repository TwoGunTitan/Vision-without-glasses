{
  "nbformat": 4,
  "nbformat_minor": 0,
  "metadata": {
    "colab": {
      "provenance": [],
      "mount_file_id": "1kfjSOZoIasp6DFlY1S04YWDWZMfPNepZ",
      "authorship_tag": "ABX9TyNY7JlFC6qk+oZgV6IqlONM",
      "include_colab_link": true
    },
    "kernelspec": {
      "name": "python3",
      "display_name": "Python 3"
    },
    "language_info": {
      "name": "python"
    },
    "accelerator": "GPU"
  },
  "cells": [
    {
      "cell_type": "markdown",
      "metadata": {
        "id": "view-in-github",
        "colab_type": "text"
      },
      "source": [
        "<a href=\"https://colab.research.google.com/github/TwoGunTitan/Vision-without-glasses/blob/main/Inception_v3.ipynb\" target=\"_parent\"><img src=\"https://colab.research.google.com/assets/colab-badge.svg\" alt=\"Open In Colab\"/></a>"
      ]
    },
    {
      "cell_type": "code",
      "execution_count": null,
      "metadata": {
        "id": "A_f51tbgUMD0"
      },
      "outputs": [],
      "source": [
        "import torch\n",
        "from tensorflow import keras\n",
        "import tensorflow as tf\n",
        "import numpy as np\n",
        "import os\n",
        "import matplotlib.pyplot as plt\n",
        "import cv2\n",
        "import pandas as pd\n",
        "from tensorflow.keras.preprocessing import image"
      ]
    },
    {
      "cell_type": "code",
      "source": [
        "from google.colab import drive\n",
        "drive.mount('/content/drive')"
      ],
      "metadata": {
        "id": "sB9xElnOUhwh"
      },
      "execution_count": null,
      "outputs": []
    },
    {
      "cell_type": "code",
      "source": [
        "print(\"Num GPUs Available: \", len(tf.config.list_physical_devices('GPU')))\n",
        "sess = tf.compat.v1.Session(config=tf.compat.v1.ConfigProto(log_device_placement=True))"
      ],
      "metadata": {
        "id": "c0ZmybSsUrV2"
      },
      "execution_count": null,
      "outputs": []
    },
    {
      "cell_type": "code",
      "source": [
        "tf.config.experimental.get_memory_info('GPU:0')['current']\n"
      ],
      "metadata": {
        "id": "0bGfrOu1UsCo"
      },
      "execution_count": null,
      "outputs": []
    },
    {
      "cell_type": "code",
      "source": [
        "def generate_file_names(start, end, directory):\n",
        "    classes = ['cat.', 'dog.']\n",
        "    file_names = []\n",
        "    ## 0 is cat and 1 is dog\n",
        "    for i in range(start, end):\n",
        "        for label in range(2):\n",
        "            file_names.append([directory + classes[label] + str(i) + '.jpg', label])\n",
        "    return file_names\n",
        "\n",
        "def load_images(start,end, directory):\n",
        "    file_names = generate_file_names(start,end, directory)\n",
        "    np.random.shuffle(file_names)\n",
        "    dataset = []\n",
        "    images = []\n",
        "    labels = []\n",
        "\n",
        "    i=0\n",
        "\n",
        "    for name, label in file_names:\n",
        "        img = image.load_img(name, target_size=(224, 224))\n",
        "        x = image.img_to_array(img)\n",
        "        x = tf.keras.applications.inception_v3.preprocess_input(x)\n",
        "        images.append(x)\n",
        "        labels.append(label)\n",
        "        # print(i)\n",
        "        # i = i+1\n",
        "\n",
        "    return np.array(images), np.array(labels)"
      ],
      "metadata": {
        "id": "P272PqU7UuWl"
      },
      "execution_count": null,
      "outputs": []
    },
    {
      "cell_type": "code",
      "source": [
        "base_model = tf.keras.applications.InceptionV3(\n",
        "    include_top=False,\n",
        "    weights=\"imagenet\",\n",
        "    input_shape=(224, 224, 3),\n",
        ")\n",
        "# print('debug')\n",
        "base_model.trainable = False\n",
        "\n",
        "inputs = keras.Input(shape=(224, 224, 3))\n",
        "\n",
        "x = base_model(inputs, training=False)\n",
        "\n",
        "x = keras.layers.GlobalAveragePooling2D()(x)\n",
        "\n",
        "outputs = tf.keras.activations.sigmoid(keras.layers.Dense(1)(x))\n",
        "\n",
        "model = keras.Model(inputs, outputs)\n",
        "\n",
        "\n",
        "# x, y = load_images(2500, 5000, '/content/drive/MyDrive/dogs_vs_cats_dataset/train_data/normal_dataset/')\n",
        "# print('debug')\n",
        "model.compile(optimizer=keras.optimizers.Adam(),\n",
        "              loss=keras.losses.BinaryCrossentropy(from_logits=True),\n",
        "              metrics=[keras.metrics.BinaryAccuracy()])\n",
        "model.summary()"
      ],
      "metadata": {
        "id": "OGFpmJXmU4Xf"
      },
      "execution_count": null,
      "outputs": []
    },
    {
      "cell_type": "code",
      "source": [
        "model.load_weights('/content/drive/MyDrive/dogs_vs_cats_dataset/weights/Inception_cyblur_2')"
      ],
      "metadata": {
        "id": "tWLc1sG8U6OK"
      },
      "execution_count": null,
      "outputs": []
    },
    {
      "cell_type": "code",
      "source": [
        "x, y = load_images(0, 2500, '/content/drive/MyDrive/dogs_vs_cats_dataset/test_data/normal_dataset/')"
      ],
      "metadata": {
        "id": "8t0yoYQ4VJrz"
      },
      "execution_count": null,
      "outputs": []
    },
    {
      "cell_type": "code",
      "source": [
        "y_predicted = model.predict(x)\n",
        "y_predicted.round()\n",
        "acc = keras.metrics.BinaryAccuracy()\n",
        "acc.update_state(y, y_predicted[:, 0]).numpy()\n",
        "acc.result()"
      ],
      "metadata": {
        "id": "D_bOTXbPVjfT"
      },
      "execution_count": null,
      "outputs": []
    }
  ]
}