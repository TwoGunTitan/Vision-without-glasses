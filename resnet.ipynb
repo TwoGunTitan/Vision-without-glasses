{
  "nbformat": 4,
  "nbformat_minor": 0,
  "metadata": {
    "colab": {
      "provenance": [],
      "authorship_tag": "ABX9TyM2sp68OVGjL/n715yut5SO",
      "include_colab_link": true
    },
    "kernelspec": {
      "name": "python3",
      "display_name": "Python 3"
    },
    "language_info": {
      "name": "python"
    },
    "accelerator": "GPU"
  },
  "cells": [
    {
      "cell_type": "markdown",
      "metadata": {
        "id": "view-in-github",
        "colab_type": "text"
      },
      "source": [
        "<a href=\"https://colab.research.google.com/github/TwoGunTitan/Vision-without-glasses/blob/main/resnet.ipynb\" target=\"_parent\"><img src=\"https://colab.research.google.com/assets/colab-badge.svg\" alt=\"Open In Colab\"/></a>"
      ]
    },
    {
      "cell_type": "code",
      "execution_count": null,
      "metadata": {
        "id": "bdWoH35S1K5y"
      },
      "outputs": [],
      "source": [
        "from google.colab import drive\n",
        "drive.mount('/content/drive')"
      ]
    },
    {
      "cell_type": "code",
      "source": [
        "import cv2\n",
        "import matplotlib.pyplot as plt\n",
        "import numpy as np\n",
        "# from google.colab import files\n",
        "import os\n",
        "# import numpy as np\n",
        "import tensorflow as tf\n",
        "from tensorflow import keras\n",
        "from tensorflow.keras.preprocessing import image\n",
        "import tensorflow_datasets as tfds\n",
        "import matplotlib.pyplot as plt"
      ],
      "metadata": {
        "id": "fU9UVmUK1V2a"
      },
      "execution_count": null,
      "outputs": []
    },
    {
      "cell_type": "code",
      "source": [
        "print(\"Num GPUs Available: \", len(tf.config.list_physical_devices('GPU')))\n",
        "sess = tf.compat.v1.Session(config=tf.compat.v1.ConfigProto(log_device_placement=True))"
      ],
      "metadata": {
        "id": "1TOThOrk1qUo"
      },
      "execution_count": null,
      "outputs": []
    },
    {
      "cell_type": "code",
      "source": [
        "def generate_file_names(start, end, directory):\n",
        "    classes = ['cat.', 'dog.']\n",
        "    file_names = []\n",
        "    ## 0 is cat and 1 is dog\n",
        "    for i in range(start, end):\n",
        "        for label in range(2):\n",
        "            file_names.append([directory + classes[label] + str(i) + '.jpg', label])\n",
        "    return file_names\n",
        "\n",
        "def load_images(start,end, directory):\n",
        "    file_names = generate_file_names(start,end, directory)\n",
        "    np.random.shuffle(file_names)\n",
        "    dataset = []\n",
        "    images = []\n",
        "    labels = []\n",
        "\n",
        "    i=0\n",
        "\n",
        "    for name, label in file_names:\n",
        "        img = image.load_img(name, target_size=(224, 224))\n",
        "        x = image.img_to_array(img)\n",
        "        x = tf.keras.applications.inception_v3.preprocess_input(x)\n",
        "        images.append(x)\n",
        "        labels.append(label)\n",
        "        print(i)\n",
        "        i = i+1\n",
        "\n",
        "    return np.array(images), np.array(labels)"
      ],
      "metadata": {
        "id": "fkWBw-f31ss7"
      },
      "execution_count": null,
      "outputs": []
    },
    {
      "cell_type": "code",
      "source": [
        "base_model = tf.keras.applications.ResNet50V2(\n",
        "    include_top=False,\n",
        "    weights=\"imagenet\",\n",
        "    input_shape=(224, 224, 3),\n",
        ")\n",
        "# print('debug')\n",
        "base_model.trainable = False\n",
        "\n",
        "inputs = keras.Input(shape=(224, 224, 3))\n",
        "\n",
        "x = base_model(inputs, training=False)\n",
        "\n",
        "x = keras.layers.GlobalAveragePooling2D()(x)\n",
        "\n",
        "outputs = tf.keras.activations.sigmoid(keras.layers.Dense(1)(x))\n",
        "\n",
        "model = keras.Model(inputs, outputs)\n",
        "\n",
        "\n",
        "x, y = load_images(2500, 5000, '/content/drive/MyDrive/dogs_vs_cats_dataset/train_data/cyblur_4/')\n",
        "# print('debug')\n",
        "model.compile(optimizer=keras.optimizers.Adam(),\n",
        "              loss=keras.losses.BinaryCrossentropy(from_logits=True),\n",
        "              metrics=[keras.metrics.BinaryAccuracy()])\n",
        "model.summary()"
      ],
      "metadata": {
        "id": "xfKngUps1tsc"
      },
      "execution_count": null,
      "outputs": []
    },
    {
      "cell_type": "code",
      "source": [
        "model.fit(x=x,y=y, epochs=10)\n",
        "model.save_weights('Resnet_gaussian_4')"
      ],
      "metadata": {
        "id": "YEudbc5m1zjt"
      },
      "execution_count": null,
      "outputs": []
    },
    {
      "cell_type": "code",
      "source": [],
      "metadata": {
        "id": "VYYvfvcn10hD"
      },
      "execution_count": null,
      "outputs": []
    }
  ]
}